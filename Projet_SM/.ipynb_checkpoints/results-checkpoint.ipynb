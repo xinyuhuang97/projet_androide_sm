{
 "cells": [
  {
   "cell_type": "markdown",
   "metadata": {},
   "source": [
    "# Introduction\n",
    "\n",
    "Le problème des mariages stables est au cœur de nombreuses procédures d'affectation, la plus connue en France étant probablement ParcourSup. Il y a dans ce problème deux types de joueurs (hommes/femmes, candidat(e)s/universités, ...), chaque joueur d'un type donnant ses préférences sur les joueurs de l'autre type (les universités classent les candidat(e)s par exemple). Le but est de trouver une affectation/un couplage vérifiant une propriété de stabilité.\n",
    "L'algorithme le plus connu pour trouver une telle affectation est l'algorithme de Gale-Shapley. Nous nous intéressons dans ce projet non seulement coder les solutions en algorithme de Gale-Shapley et programmation linéaire, mais aussi étudier ce problème dans une situation dynamique : à chaque pas de temps nous réinitialise le nombre de l’homme et femme et on va trouvé une algorithme qui minimiser le changement de couples. \n"
   ]
  },
  {
   "cell_type": "markdown",
   "metadata": {},
   "source": [
    "# Different algorithmes used\n",
    "- Gale-shapley (algo 1,2)\n",
    "- Iteratif linear programmation\n",
    "- Global linear programmation\n",
    "    "
   ]
  },
  {
   "cell_type": "markdown",
   "metadata": {},
   "source": [
    "# Description of files\n",
    "- name_female.json, name_femal.json / csv : data of humans' name\n",
    "- get_csv.py : turn files from json to csv\n",
    "- gs.py : principal code of algorithmes Gale-shapley\n",
    "- sm.py : principal file contains functions:\n",
    "    - gennere_set_f_m\n",
    "    - genere_pref_dyn\n",
    "    - genere_instance \n",
    "    - calcul_difference_entre_gen\n",
    "    - algo_1 \n",
    "    - algo_2\n",
    "    - lire_entree\n",
    "    - choix_algo\n",
    "- moplex.py, moplex_new.py : application of linear programmtion\n",
    "- algo3.py : contains the function for the Iteratif linear programmation\n",
    "- algo4.py : contains the function for the Global linear programmation\n",
    "- interface.py : contains code for the interface"
   ]
  },
  {
   "cell_type": "markdown",
   "metadata": {},
   "source": [
    "# Test\n",
    "**Objet** : we want to study the value and time-cost evolution for these four algorithmes in a specifique situation\n",
    "\n",
    "**Situation** : number male->max, number female from 1 to max"
   ]
  },
  {
   "cell_type": "code",
   "execution_count": 1,
   "metadata": {},
   "outputs": [
    {
     "data": {
      "text/plain": [
       "['mogplex_new.py',\n",
       " 'name_male.json',\n",
       " '.DS_Store',\n",
       " 'study_test.py',\n",
       " 'results.ipynb',\n",
       " 'tt.py',\n",
       " 'mogplex.py',\n",
       " 'trash',\n",
       " 'algo3.py',\n",
       " '__pycache__',\n",
       " 'sm.py',\n",
       " 'test.py',\n",
       " 'name_male.csv',\n",
       " 'algo4.py',\n",
       " 'gs.py',\n",
       " 'donne.csv',\n",
       " '.ipynb_checkpoints',\n",
       " 'name_female.json',\n",
       " '.git',\n",
       " 'main.py',\n",
       " 'name_female.csv',\n",
       " 'get_csv.py']"
      ]
     },
     "execution_count": 1,
     "metadata": {},
     "output_type": "execute_result"
    }
   ],
   "source": [
    "import os \n",
    "#if you want to know current working dir\n",
    "os.getcwd()\n",
    "#if you want to change\n",
    "os.chdir('/Users/xinyuhuangmac/Google Drive/M1S2/Projet/Projet_SM')\n",
    "# if you want to list dir\n",
    "os.listdir()"
   ]
  },
  {
   "cell_type": "code",
   "execution_count": 2,
   "metadata": {},
   "outputs": [],
   "source": [
    "import os\n",
    "from sm import *\n",
    "import random\n",
    "import time\n",
    "import matplotlib.pyplot as plt"
   ]
  },
  {
   "cell_type": "code",
   "execution_count": 17,
   "metadata": {},
   "outputs": [
    {
     "name": "stdout",
     "output_type": "stream",
     "text": [
      "i== 5\n",
      "i== 6\n",
      "i== 7\n",
      "i== 8\n",
      "i== 9\n",
      "i== 10\n",
      "i== 11\n",
      "i== 12\n",
      "i== 13\n",
      "i== 14\n",
      "i== 15\n",
      "i== 16\n",
      "i== 17\n",
      "i== 18\n",
      "i== 19\n",
      "i== 20\n"
     ]
    },
    {
     "data": {
      "text/plain": [
       "'print(lv1)\\nplt.plot(S,lt1, label=\"algo1\")\\nplt.plot(S,lt2, label=\"algo1\")\\nplt.plot(S,lt3, label=\"algo1\")\\nplt.plot(S,lt4, label=\"algo1\")\\nplt.legend()\\nplt.show()\\n'"
      ]
     },
     "execution_count": 17,
     "metadata": {},
     "output_type": "execute_result"
    }
   ],
   "source": [
    "\n",
    "\n",
    "size_K=20\n",
    "size_S=20\n",
    "\n",
    "\n",
    "\n",
    "lt1,lt2,lt3,lt4=[],[],[],[]\n",
    "lv1,lv2,lv3,lv4=[],[],[],[]\n",
    "\n",
    "nb_for_generation=5\n",
    "for i in range(5,(size_S+1)):\n",
    "    K=[i]*i\n",
    "    S=[j for j in range(1,i+1)]\n",
    "    \n",
    "    t=[0]*4\n",
    "    sl1, sl2, sl3 ,sl4 = [], [], [], []\n",
    "    import sys\n",
    "    save_stdout = sys.stdout\n",
    "    sys.stdout = open('trash', 'w')\n",
    "    for j in range(nb_for_generation):\n",
    "        female,male,s_f,s_m=gennere_set_f_m(i,i)\n",
    "        ins=genere_instance(K,S, male, female, s_m, s_f)\n",
    "        start = time.time()\n",
    "        res1=calcul_difference_entre_gen(algo_1(deepcopy(ins)))\n",
    "        stop = time.time()\n",
    "        t[0]+=stop-start\n",
    "        start = time.time()\n",
    "        res2=calcul_difference_entre_gen(algo_2(deepcopy(ins)))\n",
    "        stop = time.time()\n",
    "        t[1]+=stop-start\n",
    "        start = time.time()\n",
    "        res3=calcul_difference_entre_gen(algo_3(deepcopy(ins)))\n",
    "        stop = time.time()\n",
    "        t[2]+=stop-start\n",
    "        start = time.time()\n",
    "        res4=prog_lineaire_advance(deepcopy(ins))\n",
    "        stop = time.time()\n",
    "        t[3]+=stop-start\n",
    "        sl1.append(res1)\n",
    "        sl2.append(res2)\n",
    "        sl3.append(res3)\n",
    "        sl4.append(res4)\n",
    "    sys.stdout = save_stdout\n",
    "    print(\"i==\",i)\n",
    "    lv1.append(sl1)\n",
    "    lv2.append(sl2)\n",
    "    lv3.append(sl3)\n",
    "    lv4.append(sl4)\n",
    "    lt1.append(np.mean(t[0]))\n",
    "    lt2.append(np.mean(t[1]))\n",
    "    lt3.append(np.mean(t[2]))\n",
    "    lt4.append(np.mean(t[3]))\n",
    "\n",
    "\"\"\"\n",
    "1. codes utilisables (commente, readme, facilise pour l'utilisation->interface)\n",
    "2. test\n",
    "    n = 4\n",
    "    homme=max femme=range(1,max)\n",
    "    1) temps de calcul en fonction de n (courbe temps de calcul)\n",
    "    2) valeurs des algorithme alg1/alg4 .....\n",
    "        - moyenne, pire cas, courbe en fonction de n\n",
    "    3) ALGO4:\n",
    "        xijt en reel ->relaxation continue\n",
    "\n",
    "    18 mai/23,24 mai\n",
    "\"\"\""
   ]
  },
  {
   "cell_type": "code",
   "execution_count": 18,
   "metadata": {},
   "outputs": [
    {
     "data": {
      "image/png": "[encoded data removed]",
      "text/plain": [
       "<Figure size 432x288 with 1 Axes>"
      ]
     },
     "metadata": {
      "needs_background": "light"
     },
     "output_type": "display_data"
    }
   ],
   "source": [
    "Lg=[i for i in range(5,(size_S+1))]\n",
    "plt.plot(Lg,lt1, label=\"algo1\")\n",
    "plt.plot(Lg,lt2, label=\"algo2\")\n",
    "plt.plot(Lg,lt3, label=\"algo3\")\n",
    "plt.plot(Lg,lt4, label=\"algo4\")\n",
    "plt.legend()\n",
    "plt.show()"
   ]
  },
  {
   "cell_type": "code",
   "execution_count": 19,
   "metadata": {},
   "outputs": [
    {
     "data": {
      "image/png": "[encoded data removed]",
      "text/plain": [
       "<Figure size 432x288 with 1 Axes>"
      ]
     },
     "metadata": {
      "needs_background": "light"
     },
     "output_type": "display_data"
    }
   ],
   "source": [
    "plt.plot(Lg,np.mean(lv1,axis=1), label=\"algo1\")\n",
    "plt.plot(Lg,np.mean(lv2,axis=1), label=\"algo2\")\n",
    "plt.plot(Lg,np.mean(lv3,axis=1), label=\"algo3\")\n",
    "plt.plot(Lg,np.mean(lv4,axis=1), label=\"algo4\")\n",
    "plt.legend()\n",
    "plt.show()"
   ]
  },
  {
   "cell_type": "code",
   "execution_count": 38,
   "metadata": {},
   "outputs": [
    {
     "data": {
      "image/png": "[encoded data removed]",
      "text/plain": [
       "<Figure size 432x288 with 1 Axes>"
      ]
     },
     "metadata": {
      "needs_background": "light"
     },
     "output_type": "display_data"
    },
    {
     "data": {
      "image/png": "[encoded data removed]",
      "text/plain": [
       "<Figure size 432x288 with 1 Axes>"
      ]
     },
     "metadata": {
      "needs_background": "light"
     },
     "output_type": "display_data"
    },
    {
     "data": {
      "image/png": "[encoded data removed]",
      "text/plain": [
       "<Figure size 432x288 with 1 Axes>"
      ]
     },
     "metadata": {
      "needs_background": "light"
     },
     "output_type": "display_data"
    },
    {
     "data": {
      "image/png": "[encoded data removed]",
      "text/plain": [
       "<Figure size 432x288 with 1 Axes>"
      ]
     },
     "metadata": {
      "needs_background": "light"
     },
     "output_type": "display_data"
    }
   ],
   "source": [
    "nb_algo=1\n",
    "for l in [lv1, lv2, lv3, lv4]:\n",
    "    max_v=np.max(l,axis=1)\n",
    "    min_v=np.min(l,axis=1)\n",
    "    plt.fill_between(Lg, max_v,min_v, alpha=0.25, linewidth=0,)\n",
    "    plt.plot(Lg,np.mean(l,axis=1))\n",
    "    plt.title(\"algo\"+str(nb_algo))\n",
    "    plt.xlabel(\"size\")\n",
    "    plt.ylabel(\"value\")\n",
    "    plt.show()\n",
    "    nb_algo+=1\n"
   ]
  },
  {
   "cell_type": "code",
   "execution_count": 4,
   "metadata": {},
   "outputs": [
    {
     "name": "stdout",
     "output_type": "stream",
     "text": [
      "i== 5\n",
      "i== 6\n",
      "i== 7\n",
      "i== 8\n",
      "i== 9\n",
      "i== 10\n",
      "i== 11\n",
      "i== 12\n",
      "i== 13\n",
      "i== 14\n",
      "i== 15\n",
      "i== 16\n",
      "i== 17\n",
      "i== 18\n",
      "i== 19\n",
      "i== 20\n",
      "i== 21\n",
      "i== 22\n",
      "i== 23\n",
      "i== 24\n",
      "i== 25\n",
      "i== 26\n",
      "i== 27\n",
      "i== 28\n",
      "i== 29\n",
      "i== 30\n",
      "i== 31\n",
      "i== 32\n",
      "i== 33\n",
      "i== 34\n",
      "i== 35\n",
      "i== 36\n",
      "i== 37\n",
      "i== 38\n",
      "i== 39\n",
      "i== 40\n"
     ]
    }
   ],
   "source": [
    "size_K=40\n",
    "size_S=40\n",
    "\n",
    "\n",
    "\n",
    "new_lt=[]\n",
    "new_lv=[]\n",
    "\n",
    "nb_for_generation=5\n",
    "for i in range(5,(size_S+1)):\n",
    "    K=[i]*i\n",
    "    S=[j for j in range(1,i+1)]\n",
    "    \n",
    "    t=[]\n",
    "    sl1new=[]\n",
    "    import sys\n",
    "    save_stdout = sys.stdout\n",
    "    sys.stdout = open('trash', 'w')\n",
    "    for j in range(nb_for_generation):\n",
    "        female,male,s_f,s_m=gennere_set_f_m(i,i)\n",
    "        ins=genere_instance(K,S, male, female, s_m, s_f)\n",
    "        start = time.time()\n",
    "        res1=calcul_difference_entre_gen(algo_1(deepcopy(ins)))\n",
    "        stop = time.time()\n",
    "        t.append(stop-start)\n",
    "        sl1new.append(res1)\n",
    "\n",
    "    sys.stdout = save_stdout\n",
    "    print(\"i==\",i)\n",
    "    new_lv.append(sl1new)\n",
    "    new_lt.append(np.mean(t))"
   ]
  },
  {
   "cell_type": "code",
   "execution_count": 7,
   "metadata": {},
   "outputs": [
    {
     "data": {
      "image/png": "[encoded data removed]",
      "text/plain": [
       "<Figure size 432x288 with 1 Axes>"
      ]
     },
     "metadata": {
      "needs_background": "light"
     },
     "output_type": "display_data"
    }
   ],
   "source": [
    "Lg=[i for i in range(5,(size_S+1))]\n",
    "plt.plot(Lg,new_lt)\n",
    "plt.title(\"algo1\")\n",
    "plt.xlabel(\"size\")\n",
    "plt.ylabel(\"time\")\n",
    "plt.show()"
   ]
  },
  {
   "cell_type": "code",
   "execution_count": 13,
   "metadata": {},
   "outputs": [
    {
     "name": "stdout",
     "output_type": "stream",
     "text": [
      "i== 5\n",
      "i== 6\n",
      "i== 7\n",
      "i== 8\n",
      "i== 9\n",
      "i== 10\n",
      "i== 11\n",
      "i== 12\n",
      "i== 13\n",
      "i== 14\n",
      "i== 15\n",
      "i== 16\n",
      "i== 17\n",
      "i== 18\n",
      "i== 19\n",
      "i== 20\n",
      "i== 21\n",
      "i== 22\n",
      "i== 23\n",
      "i== 24\n",
      "i== 25\n",
      "i== 26\n",
      "i== 27\n",
      "i== 28\n",
      "i== 29\n",
      "i== 30\n"
     ]
    }
   ],
   "source": [
    "size_K=30\n",
    "size_S=30\n",
    "\n",
    "\n",
    "\n",
    "new_lt=[]\n",
    "new_lv=[]\n",
    "\n",
    "nb_for_generation=5\n",
    "for i in range(5,(size_S+1)):\n",
    "    K=[i]*i\n",
    "    S=[j for j in range(1,i+1)]\n",
    "    \n",
    "    t=[]\n",
    "    sll_new4=[]\n",
    "    import sys\n",
    "    save_stdout = sys.stdout\n",
    "    sys.stdout = open('trash', 'w')\n",
    "    for j in range(nb_for_generation):\n",
    "        female,male,s_f,s_m=gennere_set_f_m(i,i)\n",
    "        ins=genere_instance(K,S, male, female, s_m, s_f)\n",
    "        start = time.time()\n",
    "        res44=prog_lineaire_advance(deepcopy(ins))\n",
    "        stop = time.time()\n",
    "        t.append(stop-start)\n",
    "        sll_new4.append(res44)\n",
    "\n",
    "    sys.stdout = save_stdout\n",
    "    print(\"i==\",i)\n",
    "    new_lv.append(sll_new4)\n",
    "    new_lt.append(np.mean(t))"
   ]
  },
  {
   "cell_type": "code",
   "execution_count": 14,
   "metadata": {},
   "outputs": [
    {
     "data": {
      "image/png": "[encoded data removed]",
      "text/plain": [
       "<Figure size 432x288 with 1 Axes>"
      ]
     },
     "metadata": {
      "needs_background": "light"
     },
     "output_type": "display_data"
    }
   ],
   "source": [
    "Lg=[i for i in range(5,(size_S+1))]\n",
    "plt.plot(Lg,new_lt)\n",
    "plt.title(\"algo4\")\n",
    "plt.xlabel(\"size\")\n",
    "plt.ylabel(\"time\")\n",
    "plt.show()"
   ]
  },
  {
   "cell_type": "code",
   "execution_count": 4,
   "metadata": {},
   "outputs": [],
   "source": [
    "from gs import Gale_Shapley\n",
    "from gurobipy import *\n",
    "\n",
    "def alg_4_relaxation(list_instance):\n",
    "    \"\"\"\n",
    "    :param :list_instance : list of qua-tuplets contaning\n",
    "        - male_i/female_i : list of males/females for t=i\n",
    "        - pm_i/pf_i : dictionary of preference for t=i\n",
    "    Principe de l'algo:\n",
    "    #Methode: PL\n",
    "    #Variable:\n",
    "        - x_{ij}^{t} -> variable xij a l'instant t\n",
    "        - z_{ij}^{t} valeur a minimiser\n",
    "    #Valeur de variable:\n",
    "        - 1 si xij forme une couple a l'instant t\n",
    "        - 0 sinon\n",
    "    #Fonction objective:\n",
    "        Min sum zijt\n",
    "    #Contraintes:\n",
    "        - pour tout t, sum xij sur i ou j soit inf a 1 (mariage)\n",
    "        - zijt>=xijt - xij{t-1}\n",
    "        - zijt>=0\n",
    "        - xijt>=0\n",
    "        - xijt<=1\n",
    "        - for all t sum xij should be == to min(nbmale, nbfemale)\n",
    "    #Advantage:\n",
    "        -Comparer a l'algo iterative, resoudre le problem en une seule iteration\n",
    "        -Resoudre le problem de facon gloable qui minimise la difference gloable\n",
    "\n",
    "    :return : value of difference of couples betweens generations\n",
    "    \"\"\"\n",
    "    nb_m=0 # total nomber of males\n",
    "    nb_f=0 # total nomber of females\n",
    "    list_m=[]\n",
    "    list_f=[]\n",
    "    duree_t=0 # number of generations\n",
    "\n",
    "    # count number of generations and males/females\n",
    "    for instance_t in list_instance:\n",
    "        a,b,_,_=instance_t\n",
    "        lg_a=len(a)\n",
    "        lg_b=len(b)\n",
    "        duree_t+=1\n",
    "        if lg_a>nb_m:\n",
    "            list_m=a\n",
    "            nb_m=lg_a\n",
    "        if lg_b>nb_f:\n",
    "            list_f=b\n",
    "            nb_f=lg_b\n",
    "\n",
    "\n",
    "    # Couples for the first generation are generated by gale shapley\n",
    "    male_i,female_i,pm_i, pf_i=list_instance[0]\n",
    "    mariage_avant=Gale_Shapley(male_i,female_i,pm_i,pf_i)\n",
    "\n",
    "\n",
    "    # convert couples into a matrix that x[i][j]=1 means the i-th male and j-th female form a couple in the first generation\n",
    "    matrix_mariage=[]\n",
    "    for j in range(nb_m):\n",
    "        sous_matrix=[]\n",
    "        for k in range(nb_f):\n",
    "            if (list_m[j],list_f[k]) in mariage_avant:\n",
    "                print(male_i[j],female_i[k])\n",
    "                sous_matrix.append(1)\n",
    "            else:\n",
    "                sous_matrix.append(0)\n",
    "        matrix_mariage.append(sous_matrix)\n",
    "\n",
    "    #number of variable :xijt and zijt and t should be duree_t-1 because we generated manuelly the first generation\n",
    "    nbvar=nb_m*nb_f*(duree_t-1)*2\n",
    "    nbcont=nb_m*duree_t + nb_f*duree_t + nb_m*nb_f*(duree_t-1)*2 +nb_m*nb_f*duree_t\n",
    "\n",
    "\n",
    "\n",
    "    lignes = range(nbcont)\n",
    "    colonnes = range(nbvar)\n",
    "    m = Model(\"mogplex\")\n",
    "\n",
    "    # declaration variables de decision\n",
    "    x = []\n",
    "    for nn in ([0,1]):\n",
    "        for i in range(nb_m):\n",
    "            sous_list=[]\n",
    "            for j in range(nb_f):\n",
    "                ss_list=[]\n",
    "                for k in range(duree_t-1):\n",
    "                    ss_list.append(m.addVar(vtype=GRB.CONTINUOUS, lb=0, name=f\"x{i+1:d}{j+1:d}{k+1:d}\" ))\n",
    "                sous_list.append(ss_list)\n",
    "            x.append(sous_list)\n",
    "    print(len(x),len(x[0]),len(x[0][0]))\n",
    "\n",
    "    m.update()\n",
    "    obj = LinExpr();\n",
    "    obj =0\n",
    "\n",
    "\n",
    "    # Generation of seconde member : variables correspondding to zijt=1, else 0\n",
    "    c=[]\n",
    "    for nn in ([0,1]):\n",
    "        for i in range(nb_m):\n",
    "            sous_list=[]\n",
    "            for j in  range(nb_f):\n",
    "                ss_list=[]\n",
    "                for k in range(duree_t-1):\n",
    "                    ss_list.append(nn)\n",
    "                sous_list.append(ss_list)\n",
    "            c.append(sous_list)\n",
    "\n",
    "    # Generation of objectif function\n",
    "    for i in range(nb_m*2):\n",
    "        for j in  range(nb_f):\n",
    "            for k in range(duree_t-1):\n",
    "                obj += c[i][j][k] * x[i][j][k]\n",
    "\n",
    "    m.setObjective(obj,GRB.MINIMIZE)\n",
    "\n",
    "    #1-pour tout t, sum xij sur i ou j soit inf a 1 (mariage)\n",
    "    for t in range(duree_t-1):\n",
    "        for i in range(nb_m):\n",
    "            m.addConstr(quicksum(x[i][j][t] for j in [y for y in range(nb_f)]) <= 1, \"Contrainte%d\" % i)\n",
    "    for t in range(duree_t-1):\n",
    "        for j in range(nb_f):\n",
    "            m.addConstr(quicksum(x[i][j][t] for i in [y for y in range(nb_m)]) <= 1, \"Contrainte%d\" % i)\n",
    "    #2 zijt>=xijt - xij{t-1}\n",
    "    #1) Le cas initial\n",
    "    for i in range(nb_m):\n",
    "        for j in range(nb_f):\n",
    "            m.addConstr(x[i+nb_m][j][0] >= x[i][j][0]-matrix_mariage[i][j], \"Contrainte%d\" % i)\n",
    "    #2) Le cas general\n",
    "    for i in range(nb_m):\n",
    "        for j in range(nb_f):\n",
    "            for t in range(1,duree_t-1):\n",
    "                m.addConstr(x[i+nb_m][j][t] >= x[i][j][t]-x[i][j][t-1], \"Contrainte%d\" % i)\n",
    "    #3)- zijt>=0\n",
    "    #  - xijt>=0\n",
    "    #  - xijt<=1\n",
    "    for i in range(nb_m):\n",
    "        for j in range(nb_f):\n",
    "            for t in range(duree_t-1):\n",
    "                m.addConstr(x[i][j][t] >= 0, \"Contrainte%d\" % i)\n",
    "                m.addConstr(x[i][j][t] <= 1, \"Contrainte%d\" % i)\n",
    "                m.addConstr(x[i+nb_m][j][t] >= 0, \"Contrainte%d\" % i)\n",
    "\n",
    "    #4)- for all t sum xij should be == to min(nbmale, nbfemale)\n",
    "    for t in range(duree_t-1):\n",
    "        a,b,_,_=list_instance[t]\n",
    "        valmin=min(len(a),len(b))\n",
    "        print(valmin)\n",
    "        m.addConstr(quicksum(x[i][j][t] for i in [x for x in range(nb_m)] for j in [ y for y in range(nb_f)] ) <=valmin, \"Contrainte%d\" % i)\n",
    "        m.addConstr(quicksum(x[i][j][t] for i in [x for x in range(nb_m)] for j in [ y for y in range(nb_f)] ) >=valmin, \"Contrainte%d\" % i)\n",
    "\n",
    "    m.optimize()\n",
    "\n",
    "\n",
    "    \"\"\"\n",
    "    print(\"\")\n",
    "    print('Solution optimale:')\n",
    "    for nn in ([0,1]):\n",
    "        for i in range(nb_m):\n",
    "            for j in range(nb_f):\n",
    "                for k in range(duree_t-1):\n",
    "                    print(f\"x{i+1+nn*nb_m:d}_{j+1:d}_{k+1:d}\", '=', x[nn*nb_m+i][j][k].x)\n",
    "    print(\"\")\n",
    "    print('Valeur de la fonction objectif :', m.objVal)\n",
    "    \"\"\"\n",
    "    # Generate couples\n",
    "    couple=[]\n",
    "    for k in range(duree_t-1):\n",
    "        couple_k=[]\n",
    "        for i in range(nb_m):\n",
    "            for j in range(nb_f):\n",
    "                if x[i][j][k].x==1:\n",
    "                    couple_k.append((list_m[i],list_f[j]))\n",
    "        couple.append(couple_k)\n",
    "\n",
    "    return int(m.objVal)\n"
   ]
  },
  {
   "cell_type": "code",
   "execution_count": 5,
   "metadata": {},
   "outputs": [],
   "source": [
    "size_K=20\n",
    "size_S=20\n",
    "\n",
    "\n",
    "#new_lt1=[]\n",
    "#new_lt2=[]\n",
    "new_lv1=[]\n",
    "new_lv2=[]\n",
    "\n",
    "nb_for_generation=5\n",
    "for i in range(5,(size_S+1)):\n",
    "    K=[i]*i\n",
    "    S=[j for j in range(1,i+1)]\n",
    "    \n",
    "    t=[]\n",
    "    sl1new1=[]\n",
    "    sl1new2=[]\n",
    "    import sys\n",
    "    save_stdout = sys.stdout\n",
    "    sys.stdout = open('trash', 'w')\n",
    "    for j in range(nb_for_generation):\n",
    "        female,male,s_f,s_m=gennere_set_f_m(i,i)\n",
    "        ins=genere_instance(K,S, male, female, s_m, s_f)\n",
    "        #start = time.time()\n",
    "        res11=prog_lineaire_advance(deepcopy(ins))\n",
    "        res22=alg_4_relaxation(deepcopy(ins))\n",
    "        #stop = time.time()\n",
    "        #t.append(stop-start)\n",
    "        sl1new1.append(res11)\n",
    "        sl1new2.append(res22)\n",
    "    print(\"i==\",i)\n",
    "    sys.stdout = save_stdout\n",
    "    new_lv1.append(sl1new1)\n",
    "    new_lv2.append(sl1new2)\n"
   ]
  },
  {
   "cell_type": "code",
   "execution_count": 9,
   "metadata": {},
   "outputs": [
    {
     "name": "stdout",
     "output_type": "stream",
     "text": [
      "[[3, 3, 3, 3, 3], [4, 4, 4, 4, 4], [5, 5, 5, 5, 5], [6, 6, 6, 6, 6], [7, 7, 7, 7, 7], [8, 8, 8, 8, 8], [9, 9, 9, 9, 9], [10, 10, 10, 10, 10], [11, 11, 11, 11, 11], [12, 12, 12, 12, 12], [13, 13, 13, 13, 13], [14, 14, 14, 14, 14], [15, 15, 15, 15, 15], [16, 16, 16, 16, 16], [17, 17, 17, 17, 17], [18, 18, 18, 18, 18]]\n",
      "[[3, 3, 3, 3, 3], [4, 4, 4, 4, 4], [5, 5, 5, 5, 5], [6, 6, 6, 6, 6], [7, 7, 7, 6, 7], [8, 7, 8, 8, 7], [9, 9, 9, 9, 9], [10, 10, 10, 10, 10], [10, 11, 10, 11, 11], [12, 12, 12, 12, 11], [13, 12, 13, 12, 13], [14, 13, 14, 13, 14], [14, 15, 15, 15, 14], [15, 16, 16, 16, 16], [17, 16, 17, 17, 16], [18, 17, 18, 18, 17]]\n"
     ]
    }
   ],
   "source": [
    "print(new_lv1)\n",
    "print(new_lv2)"
   ]
  },
  {
   "cell_type": "code",
   "execution_count": 12,
   "metadata": {},
   "outputs": [
    {
     "data": {
      "image/png": "[encoded data removed]",
      "text/plain": [
       "<Figure size 432x288 with 1 Axes>"
      ]
     },
     "metadata": {
      "needs_background": "light"
     },
     "output_type": "display_data"
    }
   ],
   "source": [
    "Lg=[i for i in range(5,(size_S+1))]\n",
    "\n",
    "\n",
    "max_v1=np.max(new_lv1,axis=1)\n",
    "min_v1=np.min(new_lv1,axis=1)\n",
    "max_v2=np.max(new_lv2,axis=1)\n",
    "min_v2=np.min(new_lv2,axis=1)\n",
    "\n",
    "plt.fill_between(Lg, max_v1,min_v1, alpha=0.25, linewidth=0,)\n",
    "plt.plot(Lg,np.mean(new_lv1,axis=1))\n",
    "\n",
    "plt.fill_between(Lg, max_v2,min_v2, alpha=0.25, linewidth=0,)\n",
    "plt.plot(Lg,np.mean(new_lv2,axis=1))\n",
    "plt.title(\"algo\"+str(nb_algo))\n",
    "plt.xlabel(\"size\")\n",
    "plt.ylabel(\"value\")\n",
    "plt.show()\n",
    "nb_algo+=1"
   ]
  },
  {
   "cell_type": "markdown",
   "metadata": {},
   "source": [
    "# Conclusion\n",
    "\n",
    "For the test in the situation : number male->max, number female from 1 to max, we can notice some property:\n",
    "\n",
    "**1.** It exites a difference between algo1 and algo2:\n",
    "- we can find out that the time and value for algo2 is always better than algo1 which alppy the same algorithm(Gale-shapley)\n",
    "\n",
    "**Explanation** It's due to the algo2 is female optimal thatoptimizing female side that once females find there couples, algos stop, with |female|<=|male. And also, the vallue for algo2 is better that algo 1 because every time when female choose, she has the entire list of preference (40) meanwhile the preference list for male is incomplete so that males are more likey to change couples.\n",
    "\n",
    "**2.** Algo3 and algo4 return the same value for difference between generations\n",
    "\n",
    "**Explanation** This is due to th concept of algorithm 3, we want to avoid divorcement so each time when we add a female, we fix a couple between she and another male, grace to the proprety of S, the number of females is crossant so we don't need to make divorcement, so the value is minimum as  algo4. However, algo4 is more complicated than algo3 in terms of complexity so we need to use algo3 instead of algo4.\n",
    "\n",
    "**3.** The number of size should be less than 25/30\n",
    "\n",
    "**Explanation** From two figures of time-cost evolution, we can find out that time-cost increase exponentially from 25/30 which may cost a lot of time and computation with bad efficency."
   ]
  }
 ],
 "metadata": {
  "kernelspec": {
   "display_name": "Python 3",
   "language": "python",
   "name": "python3"
  },
  "language_info": {
   "codemirror_mode": {
    "name": "ipython",
    "version": 3
   },
   "file_extension": ".py",
   "mimetype": "text/x-python",
   "name": "python",
   "nbconvert_exporter": "python",
   "pygments_lexer": "ipython3",
   "version": "3.7.4"
  }
 },
 "nbformat": 4,
 "nbformat_minor": 2
}
